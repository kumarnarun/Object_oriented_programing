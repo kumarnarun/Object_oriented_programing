{
 "cells": [
  {
   "cell_type": "code",
   "execution_count": 3,
   "id": "55388d3c",
   "metadata": {},
   "outputs": [
    {
     "name": "stdout",
     "output_type": "stream",
     "text": [
      "500\n"
     ]
    }
   ],
   "source": [
    "class Item:\n",
    "    def\n",
    "    \n",
    "    def calculate_total_price(self,x,y):\n",
    "        return x*y\n",
    "        \n",
    "item1 = Item()\n",
    "item1.name = \"phone\"\n",
    "item1.price = 100\n",
    "item1.quantity = 5\n",
    "print(item1.calculate_total_price(item1.price,item1.quantity))\n",
    "\n",
    "item2 = Item"
   ]
  },
  {
   "cell_type": "markdown",
   "id": "620ac7f4",
   "metadata": {},
   "source": [
    "## Inhertitance in python"
   ]
  },
  {
   "cell_type": "code",
   "execution_count": 2,
   "id": "b551f3d1",
   "metadata": {},
   "outputs": [],
   "source": [
    "class Aatomz:\n",
    "    pass\n",
    "\n",
    "class students(Aatomz):\n",
    "    pass"
   ]
  },
  {
   "cell_type": "code",
   "execution_count": 3,
   "id": "28030ea1",
   "metadata": {},
   "outputs": [
    {
     "data": {
      "text/plain": [
       "True"
      ]
     },
     "execution_count": 3,
     "metadata": {},
     "output_type": "execute_result"
    }
   ],
   "source": [
    "issubclass(students, Aatomz)"
   ]
  },
  {
   "cell_type": "markdown",
   "id": "472fcec9",
   "metadata": {},
   "source": [
    "## Single inheritance"
   ]
  },
  {
   "cell_type": "code",
   "execution_count": 4,
   "id": "f1dd470a",
   "metadata": {},
   "outputs": [],
   "source": [
    "class Aatomz:\n",
    "    def show(self):\n",
    "        print(\"Aatomz is a beautiful place to learn\")\n",
    "        \n",
    "class students(Aatomz):\n",
    "    def display(self):\n",
    "        print(\"students gonna make Aatomz proud\")"
   ]
  },
  {
   "cell_type": "code",
   "execution_count": 5,
   "id": "1fd8e7c1",
   "metadata": {},
   "outputs": [
    {
     "name": "stdout",
     "output_type": "stream",
     "text": [
      "students gonna make Aatomz proud\n",
      "Aatomz is a beautiful place to learn\n"
     ]
    }
   ],
   "source": [
    "c = students()\n",
    "c.display()\n",
    "c.show()"
   ]
  },
  {
   "cell_type": "markdown",
   "id": "a34084fb",
   "metadata": {},
   "source": [
    "## Here, we created an object of the Child class and we saw that from the Child object we can even call the method of Parent class. This is the advantage of inheritance, we can reuse the code we have written."
   ]
  },
  {
   "cell_type": "markdown",
   "id": "4462c56a",
   "metadata": {},
   "source": [
    "## Multilevel inheritance in python"
   ]
  },
  {
   "cell_type": "code",
   "execution_count": 6,
   "id": "998b205a",
   "metadata": {},
   "outputs": [],
   "source": [
    "class Aatomz:\n",
    "    def methodA(self):\n",
    "        print(\"Aatomz making this place wondelful\")\n",
    "        \n",
    "class students(Aatomz):\n",
    "    def methodB(self):\n",
    "        print(\"students are the pillars of Aatomz\")\n",
    "        \n",
    "class employees(students):\n",
    "    def methodC(self):\n",
    "        print(\"Employees and students have made Aatomz a powerful place\")"
   ]
  },
  {
   "cell_type": "code",
   "execution_count": 8,
   "id": "3b18442c",
   "metadata": {},
   "outputs": [
    {
     "name": "stdout",
     "output_type": "stream",
     "text": [
      "Aatomz making this place wondelful\n",
      "students are the pillars of Aatomz\n",
      "Employees and students have made Aatomz a powerful place\n"
     ]
    }
   ],
   "source": [
    "a = employees()\n",
    "a.methodA()\n",
    "a.methodB()\n",
    "a.methodC()"
   ]
  },
  {
   "cell_type": "markdown",
   "id": "abedf939",
   "metadata": {},
   "source": [
    "## Here, the object of employees class can access the methods and properties of both Aatomz and students class because they were inherited from top to bottom. But take note that the object of a students class cannot access methods of the employees class."
   ]
  },
  {
   "cell_type": "code",
   "execution_count": 14,
   "id": "60279bfc",
   "metadata": {},
   "outputs": [
    {
     "name": "stdout",
     "output_type": "stream",
     "text": [
      "Aatomz making this place wondelful\n",
      "students are the pillars of Aatomz\n",
      "Employees and students have made Aatomz a powerful place\n",
      "Maddy has that tendency to act as a student as well as employee in Aatomz.This is also known as polymorphism\n"
     ]
    }
   ],
   "source": [
    "class Aatomz1:\n",
    "    def methodA1(self):\n",
    "        print(\"Aatomz making this place wondelful\")\n",
    "        \n",
    "class students1:\n",
    "    def methodB1(self):\n",
    "        print(\"students are the pillars of Aatomz\")\n",
    "        \n",
    "class employees1:\n",
    "    def methodC1(self):\n",
    "        print(\"Employees and students have made Aatomz a powerful place\")\n",
    "        \n",
    "class maddy1(Aatomz1,students1,employees1):\n",
    "    def methodD1(self):\n",
    "        print(\"Maddy has that tendency to act as a student as well as employee in Aatomz.This is also known as polymorphism\")\n",
    "\n",
    "        \n",
    "a = maddy1()\n",
    "a.methodA1()\n",
    "a.methodB1()\n",
    "a.methodC1()\n",
    "a.methodD1()"
   ]
  },
  {
   "cell_type": "markdown",
   "id": "204b20fd",
   "metadata": {},
   "source": [
    "## The object of a Maddy class has directly inherited the properties and methods of A, B, and C classes."
   ]
  },
  {
   "cell_type": "markdown",
   "id": "af42b071",
   "metadata": {},
   "source": [
    "## Hierarchial Inheritance in python"
   ]
  },
  {
   "cell_type": "code",
   "execution_count": null,
   "id": "d889d819",
   "metadata": {},
   "outputs": [],
   "source": []
  },
  {
   "cell_type": "code",
   "execution_count": null,
   "id": "527f1aae",
   "metadata": {},
   "outputs": [],
   "source": []
  },
  {
   "cell_type": "code",
   "execution_count": null,
   "id": "d0211887",
   "metadata": {},
   "outputs": [],
   "source": []
  },
  {
   "cell_type": "code",
   "execution_count": null,
   "id": "e373f702",
   "metadata": {},
   "outputs": [],
   "source": []
  },
  {
   "cell_type": "code",
   "execution_count": null,
   "id": "9094a7f4",
   "metadata": {},
   "outputs": [],
   "source": []
  },
  {
   "cell_type": "code",
   "execution_count": null,
   "id": "e9e08822",
   "metadata": {},
   "outputs": [],
   "source": []
  }
 ],
 "metadata": {
  "kernelspec": {
   "display_name": "Python 3 (ipykernel)",
   "language": "python",
   "name": "python3"
  },
  "language_info": {
   "codemirror_mode": {
    "name": "ipython",
    "version": 3
   },
   "file_extension": ".py",
   "mimetype": "text/x-python",
   "name": "python",
   "nbconvert_exporter": "python",
   "pygments_lexer": "ipython3",
   "version": "3.9.12"
  }
 },
 "nbformat": 4,
 "nbformat_minor": 5
}
